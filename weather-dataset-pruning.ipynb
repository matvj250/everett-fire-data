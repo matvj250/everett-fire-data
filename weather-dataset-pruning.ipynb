{
 "cells": [
  {
   "cell_type": "markdown",
   "metadata": {},
   "source": [
    "10/10/2023\n",
    "\n",
    "This is a continuation of my Everett fire call data science project. I pruned and edited the fire call dataset, now I need to prune and edit my weather dataset."
   ]
  },
  {
   "cell_type": "markdown",
   "metadata": {},
   "source": [
    "Here's the explanation of the weather attributes, via a PDF NOAA sent along with my data download:\n",
    "\n",
    "TEMP - Mean temperature for the day in degrees Fahrenheit to tenths. Missing = 9999.9\n",
    "\n",
    "DEWP - Mean dew point for the day in degrees Fahrenheit to tenths. Missing = 9999.9\n",
    "\n",
    "SLP - Mean sea level pressure for the day in millibars to tenths. Missing = 9999.9\n",
    "\n",
    "STP - Mean station pressure for the day in millibars to tenths. Missing = 9999.9\n",
    "\n",
    "VISIB - Mean visibility for the day in miles to tenths. Missing = 999.9\n",
    "\n",
    "WDSP - Mean wind speed for the day in knots to tenths. Missing = 999.9 \n",
    "\n",
    "MXSPD - Maximum sustained wind speed reported for the day in knots to tenths. Missing = 999.9\n",
    "\n",
    "GUST - Maximum wind gust reported for the day in knots to tenths. Missing = 999.9\n",
    "\n",
    "MAX - Maximum temperature reported during the day in Fahrenheit to tenths. Missing = 9999.9\n",
    "\n",
    "MIN - Minimum temperature reported during the day in Fahrenheit to tenths. Missing = 9999.9\n",
    "\n",
    "PRCP - Total precipitation (rain and/or melted snow) reported during the day in inches\n",
    "and hundredths; will usually not end with the midnight observation (i.e. may include\n",
    "latter part of previous day). “0” indicates no measurable precipitation (includes a trace). \n",
    "Missing = 99.99\n",
    "\n",
    "SNDP - Snow depth in inches to tenths. It is the last report for the day if reported more than once. Missing = 999.9\n",
    " Note: Most stations do not report “0” on days with no snow on the ground, therefore, “999.9” will \n",
    "often appear on these days.\n",
    "\n",
    "FRSHTT - Indicators (1 = yes, 0 = no/not reported) for the occurrence during the day of:\n",
    " Fog ('F' - 1st digit).\n",
    " Rain or Drizzle ('R' - 2nd digit).\n",
    " Snow or Ice Pellets ('S' - 3rd digit).\n",
    " Hail ('H' - 4th digit).\n",
    " Thunder ('T' - 5th digit).\n",
    " Tornado or Funnel Cloud ('T' - 6th digit)."
   ]
  },
  {
   "cell_type": "code",
   "execution_count": 9,
   "metadata": {},
   "outputs": [
    {
     "name": "stdout",
     "output_type": "stream",
     "text": [
      "<class 'pandas.core.frame.DataFrame'>\n",
      "RangeIndex: 2835 entries, 0 to 2834\n",
      "Data columns (total 15 columns):\n",
      " #   Column   Non-Null Count  Dtype  \n",
      "---  ------   --------------  -----  \n",
      " 0   STATION  2835 non-null   int64  \n",
      " 1   DATE     2835 non-null   object \n",
      " 2   DEWP     2835 non-null   float64\n",
      " 3   FRSHTT   2835 non-null   int64  \n",
      " 4   GUST     2835 non-null   float64\n",
      " 5   MAX      2835 non-null   float64\n",
      " 6   MIN      2835 non-null   float64\n",
      " 7   MXSPD    2835 non-null   float64\n",
      " 8   PRCP     2835 non-null   float64\n",
      " 9   SLP      2835 non-null   float64\n",
      " 10  SNDP     2835 non-null   float64\n",
      " 11  STP      2835 non-null   float64\n",
      " 12  TEMP     2835 non-null   float64\n",
      " 13  VISIB    2835 non-null   float64\n",
      " 14  WDSP     2835 non-null   float64\n",
      "dtypes: float64(12), int64(2), object(1)\n",
      "memory usage: 332.4+ KB\n"
     ]
    }
   ],
   "source": [
    "import numpy as np\n",
    "import matplotlib.pyplot as plt\n",
    "import pandas as pd\n",
    "\n",
    "filename = 'everett-weather-data.csv'\n",
    "weatherData = pd.read_csv(filename)\n",
    "weatherData.info()"
   ]
  },
  {
   "cell_type": "markdown",
   "metadata": {},
   "source": [
    "Just through scrolling through the csv, I can see that there's a ton of missing values in the dataset. I need to fill in all the missing values, since taking them out would totally ruin the plotting I'm hoping to do (number of fires against average temp, etc.). This requires some extra SQL work, contained in weather-averages.sql"
   ]
  },
  {
   "cell_type": "code",
   "execution_count": 10,
   "metadata": {},
   "outputs": [],
   "source": [
    "weatherData[\"DEWP\"] = weatherData[\"DEWP\"].replace(9999.9, 43.2)\n",
    "weatherData[\"GUST\"] = weatherData[\"GUST\"].replace(999.9, 22.73)\n",
    "weatherData[\"MAX\"] = weatherData[\"MAX\"].replace(9999.9, 60.7)\n",
    "weatherData[\"MXSPD\"] = weatherData[\"MXSPD\"].replace(999.9, 11.8)\n",
    "weatherData[\"PRCP\"] = weatherData[\"PRCP\"].replace(99.99, 0.09)\n",
    "weatherData[\"SLP\"] = weatherData[\"SLP\"].replace(9999.9, 1017.2)\n",
    "weatherData[\"STP\"] = weatherData[\"STP\"].replace(9999.9, 784.5)\n",
    "weatherData[\"TEMP\"] = weatherData[\"TEMP\"].replace(9999.9, 51.6) \n",
    "weatherData[\"VISIB\"] = weatherData[\"VISIB\"].replace(999.9, 9.2)\n",
    "weatherData[\"WDSP\"] = weatherData[\"WDSP\"].replace(999.9, 6.1)\n",
    "\n",
    "\n",
    "weatherData = weatherData.drop(\"MIN\", axis=1) # min temp won't be nearly as interesting as avg or max\n",
    "weatherData = weatherData.drop(\"STATION\", axis=1)\n",
    "weatherData = weatherData.drop(\"SNDP\", axis=1) # all values in this column are 999.9 for whatever reason\n"
   ]
  },
  {
   "cell_type": "code",
   "execution_count": 11,
   "metadata": {},
   "outputs": [],
   "source": [
    "# fog = np.zeros(len(bothData))\n",
    "# rain = np.zeros(len(bothData))\n",
    "# snow = np.zeros(len(bothData))\n",
    "# hail = np.zeros(len(bothData))\n",
    "# thunder = np.zeros(len(bothData))\n",
    "# tornado = np.zeros(len(bothData))\n",
    "# arr_arr = np.array([fog, rain, snow, hail, thunder, tornado])\n",
    "\n",
    "# for index, row in bothData.iterrows():\n",
    "#     string = str(row[\"FRSHTT\"])\n",
    "#     for k in range(len(string)):\n",
    "#         print(string)\n",
    "#         arr_arr[k][index] = int(string[k])\n",
    "# bothData = bothData.drop(\"FRSHTT\", axis=1)\n",
    "# bothData[\"is_fog\"] = fog\n",
    "# bothData[\"is_rain\"] = rain\n",
    "# bothData[\"is_snow\"] = snow\n",
    "# bothData[\"is_hail\"] = hail\n",
    "# bothData[\"is_thunder\"] = thunder\n",
    "# bothData[\"is_tornado\"] = tornado\n",
    "\n",
    "# I tried to use this attribute, but it's very inconsistent in the dataset\n",
    "# some entries are 0, some are 1000, some are 111000\n",
    "weatherData = weatherData.drop(\"FRSHTT\", axis=1)"
   ]
  },
  {
   "cell_type": "code",
   "execution_count": 12,
   "metadata": {},
   "outputs": [],
   "source": [
    "weatherData[\"DATE\"] = pd.to_datetime(weatherData[\"DATE\"], format='%Y/%m/%d')\n",
    "weatherData[\"DATE\"] = weatherData[\"DATE\"].dt.strftime('%m/%d/%Y') # editing dates to make them consistent with fire data's dates, for joining"
   ]
  },
  {
   "cell_type": "markdown",
   "metadata": {},
   "source": [
    "Just doing fires by date wouldn't really work. I'd need to group by year and month to get counts of fires and average temperatures. I don't know how to do this in Python, but I (somewhat) remember how to do this in SQL. I think I'll need to make like 10 different csvs and scatter plot each."
   ]
  },
  {
   "cell_type": "code",
   "execution_count": 13,
   "metadata": {},
   "outputs": [
    {
     "name": "stdout",
     "output_type": "stream",
     "text": [
      "<class 'pandas.core.frame.DataFrame'>\n",
      "RangeIndex: 2835 entries, 0 to 2834\n",
      "Data columns (total 11 columns):\n",
      " #   Column  Non-Null Count  Dtype  \n",
      "---  ------  --------------  -----  \n",
      " 0   DATE    2835 non-null   object \n",
      " 1   DEWP    2835 non-null   float64\n",
      " 2   GUST    2835 non-null   float64\n",
      " 3   MAX     2835 non-null   float64\n",
      " 4   MXSPD   2835 non-null   float64\n",
      " 5   PRCP    2835 non-null   float64\n",
      " 6   SLP     2835 non-null   float64\n",
      " 7   STP     2835 non-null   float64\n",
      " 8   TEMP    2835 non-null   float64\n",
      " 9   VISIB   2835 non-null   float64\n",
      " 10  WDSP    2835 non-null   float64\n",
      "dtypes: float64(10), object(1)\n",
      "memory usage: 243.8+ KB\n"
     ]
    }
   ],
   "source": [
    "weatherData.info()"
   ]
  },
  {
   "cell_type": "code",
   "execution_count": 14,
   "metadata": {},
   "outputs": [],
   "source": [
    "# weatherData.to_csv(r'PrunedWeatherData.csv', index=False)"
   ]
  }
 ],
 "metadata": {
  "kernelspec": {
   "display_name": "base",
   "language": "python",
   "name": "python3"
  },
  "language_info": {
   "codemirror_mode": {
    "name": "ipython",
    "version": 3
   },
   "file_extension": ".py",
   "mimetype": "text/x-python",
   "name": "python",
   "nbconvert_exporter": "python",
   "pygments_lexer": "ipython3",
   "version": "3.10.9"
  }
 },
 "nbformat": 4,
 "nbformat_minor": 2
}
